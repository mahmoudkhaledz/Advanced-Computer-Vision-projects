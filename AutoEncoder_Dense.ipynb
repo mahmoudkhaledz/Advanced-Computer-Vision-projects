{
  "nbformat": 4,
  "nbformat_minor": 0,
  "metadata": {
    "colab": {
      "provenance": [],
      "toc_visible": true
    },
    "kernelspec": {
      "name": "python3",
      "display_name": "Python 3"
    },
    "language_info": {
      "name": "python"
    }
  },
  "cells": [
    {
      "cell_type": "code",
      "execution_count": null,
      "metadata": {
        "id": "NF19B_1srNpI"
      },
      "outputs": [],
      "source": [
        "# Importing libraries \n",
        "import cv2\n",
        "import numpy as np\n",
        "from tensorflow.keras import Model\n",
        "from tensorflow.keras.datasets import fashion_mnist\n",
        "from tensorflow.keras.layers import *"
      ]
    },
    {
      "cell_type": "code",
      "source": [
        "# define function that build fully connected NN with encoder and decoder \n",
        "def build_autoencoder(input_shape=784, encoding_dim=128):\n",
        "    input_layer = Input(shape=(input_shape,))\n",
        "    encoded = Dense(units=512)(input_layer)\n",
        "    encoded = ReLU()(encoded)\n",
        "    encoded = Dense(units=256)(encoded)\n",
        "    encoded = ReLU()(encoded)\n",
        "\n",
        "    encoded = Dense(encoding_dim)(encoded)\n",
        "    encoding = ReLU()(encoded)\n",
        "\n",
        "    decoded = Dense(units=256)(encoding)\n",
        "    decoded = ReLU()(decoded)\n",
        "    decoded = Dense(units=512)(decoded)\n",
        "    decoded = ReLU()(decoded)\n",
        "    decoded = Dense(units=input_shape)(decoded)\n",
        "    decoded = Activation('sigmoid')(decoded)\n",
        "\n",
        "    return Model(input_layer, decoded)"
      ],
      "metadata": {
        "id": "3yl0yLTerX_q"
      },
      "execution_count": null,
      "outputs": []
    },
    {
      "cell_type": "code",
      "source": [
        "# Loading dataset \n",
        "(X_train, _), (X_test, _) = fashion_mnist.load_data()\n",
        "\n",
        "X_train = X_train.astype('float32') / 255.0\n",
        "X_test = X_test.astype('float32') / 255.0\n",
        "\n",
        "X_train = X_train.reshape((X_train.shape[0], -1))\n",
        "X_test = X_test.reshape((X_test.shape[0], -1))"
      ],
      "metadata": {
        "id": "f8VzNFlmry0_"
      },
      "execution_count": null,
      "outputs": []
    },
    {
      "cell_type": "code",
      "source": [
        "X_test.shape"
      ],
      "metadata": {
        "colab": {
          "base_uri": "https://localhost:8080/"
        },
        "id": "Ty9wyDC21fU7",
        "outputId": "fec7e775-b73d-48c5-f749-86694d9366c4"
      },
      "execution_count": null,
      "outputs": [
        {
          "output_type": "execute_result",
          "data": {
            "text/plain": [
              "(10000, 784)"
            ]
          },
          "metadata": {},
          "execution_count": 31
        }
      ]
    },
    {
      "cell_type": "code",
      "source": [
        "X_train.shape"
      ],
      "metadata": {
        "colab": {
          "base_uri": "https://localhost:8080/"
        },
        "id": "FFh8ESpJ1cRj",
        "outputId": "7b171668-6438-4b1e-9630-dbb37c73351c"
      },
      "execution_count": null,
      "outputs": [
        {
          "output_type": "execute_result",
          "data": {
            "text/plain": [
              "(60000, 784)"
            ]
          },
          "metadata": {},
          "execution_count": 32
        }
      ]
    },
    {
      "cell_type": "code",
      "source": [
        "# Build , Compile and Fit model \n",
        "autoencoder = build_autoencoder()\n",
        "autoencoder.compile(optimizer='adam', loss='mse')\n",
        "\n",
        "EPOCHS = 20\n",
        "BATCH_SIZE = 1024\n",
        "autoencoder.fit(X_train, X_train,\n",
        "                epochs=EPOCHS,\n",
        "                batch_size=BATCH_SIZE,\n",
        "                shuffle=True,\n",
        "                validation_data=(X_test, X_test))\n"
      ],
      "metadata": {
        "colab": {
          "base_uri": "https://localhost:8080/"
        },
        "id": "-VxFtUOsr5ir",
        "outputId": "d0ae002e-5f75-4907-8ccc-d7c046bb7425"
      },
      "execution_count": null,
      "outputs": [
        {
          "output_type": "stream",
          "name": "stdout",
          "text": [
            "Epoch 1/20\n",
            "59/59 [==============================] - 7s 108ms/step - loss: 0.0684 - val_loss: 0.0379\n",
            "Epoch 2/20\n",
            "59/59 [==============================] - 6s 106ms/step - loss: 0.0315 - val_loss: 0.0275\n",
            "Epoch 3/20\n",
            "59/59 [==============================] - 6s 107ms/step - loss: 0.0242 - val_loss: 0.0221\n",
            "Epoch 4/20\n",
            "59/59 [==============================] - 6s 108ms/step - loss: 0.0214 - val_loss: 0.0200\n",
            "Epoch 5/20\n",
            "59/59 [==============================] - 6s 106ms/step - loss: 0.0187 - val_loss: 0.0181\n",
            "Epoch 6/20\n",
            "59/59 [==============================] - 6s 105ms/step - loss: 0.0174 - val_loss: 0.0173\n",
            "Epoch 7/20\n",
            "59/59 [==============================] - 6s 106ms/step - loss: 0.0181 - val_loss: 0.0171\n",
            "Epoch 8/20\n",
            "59/59 [==============================] - 6s 107ms/step - loss: 0.0156 - val_loss: 0.0152\n",
            "Epoch 9/20\n",
            "59/59 [==============================] - 6s 106ms/step - loss: 0.0148 - val_loss: 0.0144\n",
            "Epoch 10/20\n",
            "59/59 [==============================] - 6s 106ms/step - loss: 0.0141 - val_loss: 0.0138\n",
            "Epoch 11/20\n",
            "59/59 [==============================] - 6s 105ms/step - loss: 0.0137 - val_loss: 0.0138\n",
            "Epoch 12/20\n",
            "59/59 [==============================] - 6s 105ms/step - loss: 0.0130 - val_loss: 0.0127\n",
            "Epoch 13/20\n",
            "59/59 [==============================] - 6s 106ms/step - loss: 0.0137 - val_loss: 0.0129\n",
            "Epoch 14/20\n",
            "59/59 [==============================] - 6s 106ms/step - loss: 0.0122 - val_loss: 0.0120\n",
            "Epoch 15/20\n",
            "59/59 [==============================] - 6s 107ms/step - loss: 0.0119 - val_loss: 0.0117\n",
            "Epoch 16/20\n",
            "59/59 [==============================] - 7s 112ms/step - loss: 0.0115 - val_loss: 0.0116\n",
            "Epoch 17/20\n",
            "59/59 [==============================] - 6s 110ms/step - loss: 0.0113 - val_loss: 0.0115\n",
            "Epoch 18/20\n",
            "59/59 [==============================] - 6s 110ms/step - loss: 0.0116 - val_loss: 0.0113\n",
            "Epoch 19/20\n",
            "59/59 [==============================] - 7s 124ms/step - loss: 0.0108 - val_loss: 0.0107\n",
            "Epoch 20/20\n",
            "59/59 [==============================] - 7s 110ms/step - loss: 0.0107 - val_loss: 0.0106\n"
          ]
        },
        {
          "output_type": "execute_result",
          "data": {
            "text/plain": [
              "<keras.callbacks.History at 0x7ff650997cd0>"
            ]
          },
          "metadata": {},
          "execution_count": 33
        }
      ]
    },
    {
      "cell_type": "code",
      "source": [
        "# making predictions\n",
        "predictions = autoencoder.predict(X_test)"
      ],
      "metadata": {
        "colab": {
          "base_uri": "https://localhost:8080/"
        },
        "id": "i8REJZDH1P9C",
        "outputId": "f4e60b55-d686-43e1-bf32-f5369b3753e3"
      },
      "execution_count": null,
      "outputs": [
        {
          "output_type": "stream",
          "name": "stdout",
          "text": [
            "313/313 [==============================] - 1s 4ms/step\n"
          ]
        }
      ]
    },
    {
      "cell_type": "code",
      "source": [
        "original_shape = (X_test.shape[0], 28, 28)\n",
        "predictions = predictions.reshape(original_shape)\n",
        "X_test = X_test.reshape(original_shape)\n",
        "\n"
      ],
      "metadata": {
        "id": "NMFXKpwezCte"
      },
      "execution_count": null,
      "outputs": []
    },
    {
      "cell_type": "code",
      "source": [
        "from matplotlib import pyplot as plt\n",
        "for i, img in enumerate(X_test[:9]):\n",
        "    plt.subplot(3,3,i+1)\n",
        "    plt.imshow(img.reshape(28,28), cmap='gray', interpolation='none')\n",
        "    plt.title(\"Original Image Num {}\".format(i))\n",
        "    plt.tight_layout()"
      ],
      "metadata": {
        "colab": {
          "base_uri": "https://localhost:8080/",
          "height": 297
        },
        "id": "Ao6wwXsM45d5",
        "outputId": "818f96a6-1023-4634-d163-4a4ffae94621"
      },
      "execution_count": null,
      "outputs": [
        {
          "output_type": "display_data",
          "data": {
            "text/plain": [
              "<Figure size 432x288 with 9 Axes>"
            ],
            "image/png": "[encoded data removed]"
          },
          "metadata": {
            "needs_background": "light"
          }
        }
      ]
    },
    {
      "cell_type": "code",
      "source": [
        "for i, img in enumerate(predictions[:9]):\n",
        "    plt.subplot(3,3,i+1)\n",
        "    plt.imshow(img.reshape(28,28), cmap='gray', interpolation='none')\n",
        "    plt.title(\"Predicted Image \")\n",
        "    plt.tight_layout()"
      ],
      "metadata": {
        "colab": {
          "base_uri": "https://localhost:8080/",
          "height": 297
        },
        "id": "PVeSD9ML8GVD",
        "outputId": "d4dafcf1-d08b-4c31-f0c7-33d09f898a86"
      },
      "execution_count": null,
      "outputs": [
        {
          "output_type": "display_data",
          "data": {
            "text/plain": [
              "<Figure size 432x288 with 8 Axes>"
            ],
            "image/png": "[encoded data removed]"
          },
          "metadata": {
            "needs_background": "light"
          }
        }
      ]
    }
  ]
}