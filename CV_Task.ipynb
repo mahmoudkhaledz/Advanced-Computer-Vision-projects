{
  "nbformat": 4,
  "nbformat_minor": 0,
  "metadata": {
    "colab": {
      "provenance": [],
      "toc_visible": true
    },
    "kernelspec": {
      "name": "python3",
      "display_name": "Python 3"
    },
    "language_info": {
      "name": "python"
    }
  },
  "cells": [
    {
      "cell_type": "markdown",
      "source": [
        "# Build Your Neural Networks with Keras in Three Ways"
      ],
      "metadata": {
        "id": "Dto2LtFmBu0b"
      }
    },
    {
      "cell_type": "markdown",
      "source": [
        "The Keras or more specifically the Models API can be divided into three parts, therefore making it possible to create models in multiple ways. In the following, we will learn how and when to utilize which part of the API.\n",
        "\n",
        "We’re going to build the same fully connected neural network in three different ways using the good ol’ MNIST dataset."
      ],
      "metadata": {
        "id": "KI4dGJnrCDo1"
      }
    },
    {
      "cell_type": "markdown",
      "source": [
        "#Loading Libraries"
      ],
      "metadata": {
        "id": "4ImwDWcdCM_E"
      }
    },
    {
      "cell_type": "code",
      "source": [
        "import numpy as np\n",
        "import tensorflow as tf\n",
        "from tensorflow import keras\n",
        "from tensorflow.keras import layers\n",
        "import matplotlib.pyplot as plt \n",
        "%matplotlib inline\n",
        "import seaborn as sn\n"
      ],
      "metadata": {
        "id": "T_icvudHCMM-"
      },
      "execution_count": null,
      "outputs": []
    },
    {
      "cell_type": "markdown",
      "source": [
        "**Load MNIST dataset**\n"
      ],
      "metadata": {
        "id": "5g3LPzYuCrj4"
      }
    },
    {
      "cell_type": "code",
      "source": [
        "(X_train, y_train), (X_test, y_test) = keras.datasets.mnist.load_data()\n",
        "# pre-process, normalize data\n",
        "X_train, X_test = X_train / 255.0, X_test / 255.0"
      ],
      "metadata": {
        "colab": {
          "base_uri": "https://localhost:8080/"
        },
        "id": "g4J2vVuNCzPV",
        "outputId": "5d4f373e-17d3-46ea-a5e7-4b550362f040"
      },
      "execution_count": null,
      "outputs": [
        {
          "output_type": "stream",
          "name": "stdout",
          "text": [
            "Downloading data from https://storage.googleapis.com/tensorflow/tf-keras-datasets/mnist.npz\n",
            "11490434/11490434 [==============================] - 1s 0us/step\n"
          ]
        }
      ]
    },
    {
      "cell_type": "code",
      "source": [
        "X_test.shape"
      ],
      "metadata": {
        "colab": {
          "base_uri": "https://localhost:8080/"
        },
        "id": "7ioVMP7WDOEz",
        "outputId": "f21e66bd-9453-4caf-8fcb-24640db961cb"
      },
      "execution_count": null,
      "outputs": [
        {
          "output_type": "execute_result",
          "data": {
            "text/plain": [
              "(10000, 28, 28)"
            ]
          },
          "metadata": {},
          "execution_count": 4
        }
      ]
    },
    {
      "cell_type": "code",
      "source": [
        "plt.matshow(X_train[0])"
      ],
      "metadata": {
        "colab": {
          "base_uri": "https://localhost:8080/"
        },
        "id": "Dyu1oiE9DbLh",
        "outputId": "2b4deda9-7ab1-46d6-90ae-04f480fb2c7d"
      },
      "execution_count": null,
      "outputs": [
        {
          "output_type": "execute_result",
          "data": {
            "text/plain": [
              "<matplotlib.image.AxesImage at 0x7f8f8d7918d0>"
            ]
          },
          "metadata": {},
          "execution_count": 6
        },
        {
          "output_type": "display_data",
          "data": {
            "text/plain": [
              "<Figure size 288x288 with 1 Axes>"
            ],
            "image/png": "[encoded data removed]"
          },
          "metadata": {
            "needs_background": "light"
          }
        }
      ]
    },
    {
      "cell_type": "markdown",
      "source": [
        "# Sequentail Model"
      ],
      "metadata": {
        "id": "KznBSwRkDgGP"
      }
    },
    {
      "cell_type": "code",
      "source": [
        "# get input dimension 28x28 pixels\n",
        "input_dim = (28, 28)\n",
        "# get output dimensions 10 classes\n",
        "output_dim = len(np.unique(y_train))\n",
        "\n",
        "# create sequential model\n",
        "model = keras.Sequential()\n",
        "model.add(layers.Flatten(input_shape=input_dim))\n",
        "model.add(layers.Dense(units=128, activation='relu'))\n",
        "model.add(layers.BatchNormalization())\n",
        "model.add(layers.Dense(units=128, activation='relu'))\n",
        "model.add(layers.BatchNormalization())\n",
        "model.add(layers.Dense(units=output_dim, activation='softmax'))"
      ],
      "metadata": {
        "id": "3B0DatDRDkPo"
      },
      "execution_count": null,
      "outputs": []
    },
    {
      "cell_type": "code",
      "source": [
        "# compile the model\n",
        "model.compile(\n",
        "    optimizer=keras.optimizers.Adam(learning_rate=1e-3),\n",
        "    loss=keras.losses.SparseCategoricalCrossentropy(),\n",
        "    metrics=['acc']\n",
        ")\n",
        "\n",
        "# train the model\n",
        "model.fit(\n",
        "    X_train, y_train,\n",
        "    epochs=5,\n",
        "    batch_size=128,\n",
        "    validation_split=0.1,\n",
        "    verbose=1\n",
        ")\n",
        "\n",
        "# get model summary\n",
        "model.summary()"
      ],
      "metadata": {
        "colab": {
          "base_uri": "https://localhost:8080/"
        },
        "id": "x35Tyr8gD0Nm",
        "outputId": "d83acb2d-6716-451a-ad18-3abcad5cd342"
      },
      "execution_count": null,
      "outputs": [
        {
          "output_type": "stream",
          "name": "stdout",
          "text": [
            "Epoch 1/5\n",
            "422/422 [==============================] - 3s 6ms/step - loss: 0.2639 - acc: 0.9219 - val_loss: 0.1266 - val_acc: 0.9642\n",
            "Epoch 2/5\n",
            "422/422 [==============================] - 2s 6ms/step - loss: 0.1009 - acc: 0.9695 - val_loss: 0.0874 - val_acc: 0.9743\n",
            "Epoch 3/5\n",
            "422/422 [==============================] - 3s 7ms/step - loss: 0.0675 - acc: 0.9792 - val_loss: 0.0748 - val_acc: 0.9777\n",
            "Epoch 4/5\n",
            "422/422 [==============================] - 2s 6ms/step - loss: 0.0495 - acc: 0.9847 - val_loss: 0.0863 - val_acc: 0.9750\n",
            "Epoch 5/5\n",
            "422/422 [==============================] - 2s 6ms/step - loss: 0.0399 - acc: 0.9877 - val_loss: 0.0815 - val_acc: 0.9770\n",
            "Model: \"model\"\n",
            "_________________________________________________________________\n",
            " Layer (type)                Output Shape              Param #   \n",
            "=================================================================\n",
            " input_1 (InputLayer)        [(None, 28, 28)]          0         \n",
            "                                                                 \n",
            " flatten_1 (Flatten)         (None, 784)               0         \n",
            "                                                                 \n",
            " dense_3 (Dense)             (None, 128)               100480    \n",
            "                                                                 \n",
            " batch_normalization_2 (Batc  (None, 128)              512       \n",
            " hNormalization)                                                 \n",
            "                                                                 \n",
            " dense_4 (Dense)             (None, 128)               16512     \n",
            "                                                                 \n",
            " batch_normalization_3 (Batc  (None, 128)              512       \n",
            " hNormalization)                                                 \n",
            "                                                                 \n",
            " dense_5 (Dense)             (None, 10)                1290      \n",
            "                                                                 \n",
            "=================================================================\n",
            "Total params: 119,306\n",
            "Trainable params: 118,794\n",
            "Non-trainable params: 512\n",
            "_________________________________________________________________\n"
          ]
        }
      ]
    },
    {
      "cell_type": "code",
      "source": [
        "# Make Prediction\n",
        "y_predicted=model.predict(X_test)"
      ],
      "metadata": {
        "colab": {
          "base_uri": "https://localhost:8080/"
        },
        "id": "u2a2gD91EGHG",
        "outputId": "331e86fe-bb4a-4b4a-c203-426991d2ab8e"
      },
      "execution_count": null,
      "outputs": [
        {
          "output_type": "stream",
          "name": "stdout",
          "text": [
            "313/313 [==============================] - 1s 2ms/step\n"
          ]
        }
      ]
    },
    {
      "cell_type": "code",
      "source": [
        "y_predicted[0]"
      ],
      "metadata": {
        "colab": {
          "base_uri": "https://localhost:8080/"
        },
        "id": "EJ72yju5EVDG",
        "outputId": "419de5a3-a24d-4dd5-fc0c-11f747b78bf4"
      },
      "execution_count": null,
      "outputs": [
        {
          "output_type": "execute_result",
          "data": {
            "text/plain": [
              "array([1.5878241e-04, 1.3437034e-06, 3.7132650e-05, 3.9410908e-04,\n",
              "       5.6222831e-07, 1.2071503e-04, 5.4853199e-06, 9.9870342e-01,\n",
              "       4.4467970e-06, 5.7398778e-04], dtype=float32)"
            ]
          },
          "metadata": {},
          "execution_count": 26
        }
      ]
    },
    {
      "cell_type": "code",
      "source": [
        "y_predicted_labels=[np.argmax(x) for x in y_predicted]"
      ],
      "metadata": {
        "id": "GyX8z-f4Edz2"
      },
      "execution_count": null,
      "outputs": []
    },
    {
      "cell_type": "code",
      "source": [
        "X_test.shape"
      ],
      "metadata": {
        "id": "qQ9npiPbIvzU",
        "outputId": "7fd3ce9d-e33c-460c-e4ac-8c3b878f4c46",
        "colab": {
          "base_uri": "https://localhost:8080/"
        }
      },
      "execution_count": null,
      "outputs": [
        {
          "output_type": "execute_result",
          "data": {
            "text/plain": [
              "(10000, 28, 28)"
            ]
          },
          "metadata": {},
          "execution_count": 5
        }
      ]
    },
    {
      "cell_type": "code",
      "source": [
        "# Evaluate Model \n",
        "model.evaluate(X_test,y_test)"
      ],
      "metadata": {
        "colab": {
          "base_uri": "https://localhost:8080/"
        },
        "id": "m39bDHGrGSU-",
        "outputId": "182fae0d-102d-4a97-ac78-3a5950e602b9"
      },
      "execution_count": null,
      "outputs": [
        {
          "output_type": "stream",
          "name": "stdout",
          "text": [
            "313/313 [==============================] - 1s 2ms/step - loss: 0.0862 - acc: 0.9756\n"
          ]
        },
        {
          "output_type": "execute_result",
          "data": {
            "text/plain": [
              "[0.0861918032169342, 0.975600004196167]"
            ]
          },
          "metadata": {},
          "execution_count": 31
        }
      ]
    },
    {
      "cell_type": "code",
      "source": [
        "# Confusion Matrix\n",
        "cm = tf.math.confusion_matrix(y_test,y_predicted_labels)"
      ],
      "metadata": {
        "id": "_DhKSpFJEjqL"
      },
      "execution_count": null,
      "outputs": []
    },
    {
      "cell_type": "code",
      "source": [
        "plt.figure(figsize = (10,7))\n",
        "sn.heatmap(cm, annot=True, fmt='d')\n",
        "plt.xlabel('Predicted')\n",
        "plt.ylabel('actual')"
      ],
      "metadata": {
        "colab": {
          "base_uri": "https://localhost:8080/"
        },
        "id": "FpV63m1KEsOS",
        "outputId": "242bd936-5c91-4c48-97f8-52baada0045a"
      },
      "execution_count": null,
      "outputs": [
        {
          "output_type": "execute_result",
          "data": {
            "text/plain": [
              "Text(69.0, 0.5, 'actual')"
            ]
          },
          "metadata": {},
          "execution_count": 16
        },
        {
          "output_type": "display_data",
          "data": {
            "text/plain": [
              "<Figure size 720x504 with 2 Axes>"
            ],
            "image/png": "[encoded data removed]"
          },
          "metadata": {
            "needs_background": "light"
          }
        }
      ]
    },
    {
      "cell_type": "markdown",
      "source": [
        "# The Functional API"
      ],
      "metadata": {
        "id": "CWqflnU2E5PT"
      }
    },
    {
      "cell_type": "code",
      "source": [
        "# create model with functional api\n",
        "def create_model(input_dim, output_dim):\n",
        "    inputs = layers.Input(shape=input_dim)\n",
        "    x = layers.Flatten()(inputs)\n",
        "    x = layers.Dense(units=128, activation='relu')(x)\n",
        "    x = layers.BatchNormalization()(x)\n",
        "    x = layers.Dense(units=128, activation='relu')(x)\n",
        "    x = layers.BatchNormalization()(x)\n",
        "    outputs = layers.Dense(units=output_dim, activation='softmax')(x)\n",
        "    return keras.Model(inputs=inputs, outputs=outputs)\n",
        "\n",
        "functiona_model = create_model(input_dim, output_dim)"
      ],
      "metadata": {
        "id": "bigv_0cAFBnx"
      },
      "execution_count": null,
      "outputs": []
    },
    {
      "cell_type": "code",
      "source": [
        "# compile the model\n",
        "functiona_model.compile(\n",
        "    optimizer=keras.optimizers.Adam(learning_rate=1e-3),\n",
        "    loss=keras.losses.SparseCategoricalCrossentropy(),\n",
        "    metrics=['acc']\n",
        ")\n",
        "\n",
        "# train the model\n",
        "functiona_model.fit(\n",
        "    X_train, y_train,\n",
        "    epochs=5,\n",
        "    batch_size=128,\n",
        "    validation_split=0.1,\n",
        "    verbose=1\n",
        ")\n",
        "\n",
        "# get model summary\n",
        "functiona_model.summary()"
      ],
      "metadata": {
        "colab": {
          "base_uri": "https://localhost:8080/"
        },
        "id": "01PBTvv-FQvD",
        "outputId": "a407c6fa-dce4-43d0-cf8c-645b0fed8822"
      },
      "execution_count": null,
      "outputs": [
        {
          "output_type": "stream",
          "name": "stdout",
          "text": [
            "Epoch 1/5\n",
            "422/422 [==============================] - 3s 6ms/step - loss: 0.2554 - acc: 0.9234 - val_loss: 0.1162 - val_acc: 0.9670\n",
            "Epoch 2/5\n",
            "422/422 [==============================] - 2s 6ms/step - loss: 0.0992 - acc: 0.9708 - val_loss: 0.1025 - val_acc: 0.9697\n",
            "Epoch 3/5\n",
            "422/422 [==============================] - 2s 6ms/step - loss: 0.0671 - acc: 0.9794 - val_loss: 0.0831 - val_acc: 0.9750\n",
            "Epoch 4/5\n",
            "422/422 [==============================] - 2s 6ms/step - loss: 0.0495 - acc: 0.9848 - val_loss: 0.0824 - val_acc: 0.9752\n",
            "Epoch 5/5\n",
            "422/422 [==============================] - 2s 6ms/step - loss: 0.0390 - acc: 0.9884 - val_loss: 0.0834 - val_acc: 0.9763\n",
            "Model: \"model_1\"\n",
            "_________________________________________________________________\n",
            " Layer (type)                Output Shape              Param #   \n",
            "=================================================================\n",
            " input_2 (InputLayer)        [(None, 28, 28)]          0         \n",
            "                                                                 \n",
            " flatten_2 (Flatten)         (None, 784)               0         \n",
            "                                                                 \n",
            " dense_6 (Dense)             (None, 128)               100480    \n",
            "                                                                 \n",
            " batch_normalization_4 (Batc  (None, 128)              512       \n",
            " hNormalization)                                                 \n",
            "                                                                 \n",
            " dense_7 (Dense)             (None, 128)               16512     \n",
            "                                                                 \n",
            " batch_normalization_5 (Batc  (None, 128)              512       \n",
            " hNormalization)                                                 \n",
            "                                                                 \n",
            " dense_8 (Dense)             (None, 10)                1290      \n",
            "                                                                 \n",
            "=================================================================\n",
            "Total params: 119,306\n",
            "Trainable params: 118,794\n",
            "Non-trainable params: 512\n",
            "_________________________________________________________________\n"
          ]
        }
      ]
    },
    {
      "cell_type": "code",
      "source": [
        "# Evaluate Model \n",
        "functiona_model.evaluate(X_test,y_test)"
      ],
      "metadata": {
        "colab": {
          "base_uri": "https://localhost:8080/"
        },
        "id": "hrtFbsi7GnQz",
        "outputId": "f60fc662-1332-4314-990d-cf0929a48257"
      },
      "execution_count": null,
      "outputs": [
        {
          "output_type": "stream",
          "name": "stdout",
          "text": [
            "313/313 [==============================] - 1s 2ms/step - loss: 0.0863 - acc: 0.9723\n"
          ]
        },
        {
          "output_type": "execute_result",
          "data": {
            "text/plain": [
              "[0.0862811803817749, 0.9722999930381775]"
            ]
          },
          "metadata": {},
          "execution_count": 30
        }
      ]
    },
    {
      "cell_type": "code",
      "source": [
        "# Make Prediction \n",
        "y_predicted=functiona_model.predict(X_test)\n",
        "y_predicted_labels=[np.argmax(x) for x in y_predicted]\n",
        "# Confusion Matrix\n",
        "cm = tf.math.confusion_matrix(y_test,y_predicted_labels)\n"
      ],
      "metadata": {
        "colab": {
          "base_uri": "https://localhost:8080/"
        },
        "id": "KlBge3onFk3I",
        "outputId": "79859067-565c-41d9-a284-51c55c5c983a"
      },
      "execution_count": null,
      "outputs": [
        {
          "output_type": "stream",
          "name": "stdout",
          "text": [
            "313/313 [==============================] - 1s 2ms/step\n"
          ]
        }
      ]
    },
    {
      "cell_type": "code",
      "source": [
        "# Plot CM\n",
        "plt.figure(figsize = (10,7))\n",
        "sn.heatmap(cm, annot=True, fmt='d')\n",
        "plt.xlabel('Predicted')\n",
        "plt.ylabel('actual')"
      ],
      "metadata": {
        "colab": {
          "base_uri": "https://localhost:8080/",
          "height": 459
        },
        "id": "6vt99KvsFeuW",
        "outputId": "ef7af0ae-8ae8-4032-c22e-dfa21d268cc6"
      },
      "execution_count": null,
      "outputs": [
        {
          "output_type": "execute_result",
          "data": {
            "text/plain": [
              "Text(69.0, 0.5, 'actual')"
            ]
          },
          "metadata": {},
          "execution_count": 21
        },
        {
          "output_type": "display_data",
          "data": {
            "text/plain": [
              "<Figure size 720x504 with 2 Axes>"
            ],
            "image/png": "[encoded data removed]"
          },
          "metadata": {
            "needs_background": "light"
          }
        }
      ]
    },
    {
      "cell_type": "markdown",
      "source": [
        "# Model Subclassing\n"
      ],
      "metadata": {
        "id": "WroH3LfBHQ-x"
      }
    },
    {
      "cell_type": "code",
      "source": [
        "# define custom layer\n",
        "class DenseBlock(layers.Layer):\n",
        "    def __init__(self, units, activation='relu'):\n",
        "        super().__init__()\n",
        "        self.dense = layers.Dense(units, activation)\n",
        "        self.bn = layers.BatchNormalization()\n",
        "    \n",
        "    def call(self, inputs):\n",
        "        x = self.dense(inputs)\n",
        "        x = self.bn(x)\n",
        "        return x"
      ],
      "metadata": {
        "id": "fGAz9-u-HVgS"
      },
      "execution_count": null,
      "outputs": []
    },
    {
      "cell_type": "code",
      "source": [
        "# define custom model by subclassing\n",
        "class FCNN(keras.Model):\n",
        "    def __init__(self, hidden_layer, output_dim, activation='relu'):\n",
        "        super().__init__()\n",
        "        self.hidden_layer = [DenseBlock(units) for units in hidden_layer]\n",
        "        self.flatten = layers.Flatten()\n",
        "        self.softmax = layers.Dense(units=output_dim, activation='softmax')\n",
        "    \n",
        "    def call(self, inputs):\n",
        "        x = self.flatten(inputs)\n",
        "        for layer in self.hidden_layer:\n",
        "            x = layer(x)\n",
        "        x = self.softmax(x)\n",
        "        return x\n"
      ],
      "metadata": {
        "id": "V5I6D38LHl6P"
      },
      "execution_count": null,
      "outputs": []
    },
    {
      "cell_type": "code",
      "source": [
        "# get input dimensions 28x28 pixels\n",
        "input_dim = (28, 28)\n",
        "# get output dimensions 10 classes\n",
        "output_dim = len(np.unique(y_train))\n",
        "# define layer for fully connected NN\n",
        "hidden_layer = [128, 128]\n",
        "# instantiate new model\n",
        "Subclassing_Model = FCNN(hidden_layer, output_dim)"
      ],
      "metadata": {
        "id": "GrSv7VSaHrV4"
      },
      "execution_count": null,
      "outputs": []
    },
    {
      "cell_type": "code",
      "source": [
        "# compile the model\n",
        "Subclassing_Model.compile(\n",
        "    optimizer=keras.optimizers.Adam(learning_rate=1e-3),\n",
        "    loss=keras.losses.SparseCategoricalCrossentropy(),\n",
        "    metrics=['acc']\n",
        ")\n",
        "\n",
        "# train the model\n",
        "Subclassing_Model.fit(\n",
        "    X_train, y_train,\n",
        "    epochs=5,\n",
        "    batch_size=128,\n",
        "    validation_split=0.1,\n",
        "    verbose=1\n",
        ")\n",
        "\n",
        "# get model summary\n",
        "Subclassing_Model.summary()"
      ],
      "metadata": {
        "colab": {
          "base_uri": "https://localhost:8080/"
        },
        "id": "WhF0csg8IIY0",
        "outputId": "7208e08d-27ef-4afc-f2d2-de2f5998c8d6"
      },
      "execution_count": null,
      "outputs": [
        {
          "output_type": "stream",
          "name": "stdout",
          "text": [
            "Epoch 1/5\n",
            "422/422 [==============================] - 3s 6ms/step - loss: 0.2618 - acc: 0.9226 - val_loss: 0.1080 - val_acc: 0.9707\n",
            "Epoch 2/5\n",
            "422/422 [==============================] - 2s 6ms/step - loss: 0.0996 - acc: 0.9704 - val_loss: 0.0965 - val_acc: 0.9712\n",
            "Epoch 3/5\n",
            "422/422 [==============================] - 2s 6ms/step - loss: 0.0697 - acc: 0.9782 - val_loss: 0.0818 - val_acc: 0.9757\n",
            "Epoch 4/5\n",
            "422/422 [==============================] - 2s 6ms/step - loss: 0.0510 - acc: 0.9842 - val_loss: 0.0855 - val_acc: 0.9755\n",
            "Epoch 5/5\n",
            "422/422 [==============================] - 2s 6ms/step - loss: 0.0368 - acc: 0.9884 - val_loss: 0.0762 - val_acc: 0.9787\n",
            "Model: \"fcnn_1\"\n",
            "_________________________________________________________________\n",
            " Layer (type)                Output Shape              Param #   \n",
            "=================================================================\n",
            " dense_block_2 (DenseBlock)  multiple                  100992    \n",
            "                                                                 \n",
            " dense_block_3 (DenseBlock)  multiple                  17024     \n",
            "                                                                 \n",
            " flatten_4 (Flatten)         multiple                  0         \n",
            "                                                                 \n",
            " dense_14 (Dense)            multiple                  1290      \n",
            "                                                                 \n",
            "=================================================================\n",
            "Total params: 119,306\n",
            "Trainable params: 118,794\n",
            "Non-trainable params: 512\n",
            "_________________________________________________________________\n"
          ]
        }
      ]
    },
    {
      "cell_type": "code",
      "source": [
        "# Evaluate Model \n",
        "Subclassing_Model.evaluate(X_test,y_test)"
      ],
      "metadata": {
        "colab": {
          "base_uri": "https://localhost:8080/"
        },
        "id": "cAO9OmQcIT3X",
        "outputId": "b792c23c-f018-40eb-a710-8c71d554bd38"
      },
      "execution_count": null,
      "outputs": [
        {
          "output_type": "stream",
          "name": "stdout",
          "text": [
            "313/313 [==============================] - 1s 2ms/step - loss: 0.0855 - acc: 0.9750\n"
          ]
        },
        {
          "output_type": "execute_result",
          "data": {
            "text/plain": [
              "[0.08548462390899658, 0.9750000238418579]"
            ]
          },
          "metadata": {},
          "execution_count": 39
        }
      ]
    },
    {
      "cell_type": "code",
      "source": [
        "# Make Prediction \n",
        "y_predicted=Subclassing_Model.predict(X_test)\n",
        "y_predicted_labels=[np.argmax(x) for x in y_predicted]\n",
        "# Confusion Matrix\n",
        "cm = tf.math.confusion_matrix(y_test,y_predicted_labels)"
      ],
      "metadata": {
        "colab": {
          "base_uri": "https://localhost:8080/"
        },
        "id": "_-S4AGBUIUCO",
        "outputId": "7f3c77c2-7d66-4396-9ad7-a585f3f3e762"
      },
      "execution_count": null,
      "outputs": [
        {
          "output_type": "stream",
          "name": "stdout",
          "text": [
            "313/313 [==============================] - 1s 1ms/step\n"
          ]
        }
      ]
    },
    {
      "cell_type": "code",
      "source": [
        "# Plot CM\n",
        "plt.figure(figsize = (10,7))\n",
        "sn.heatmap(cm, annot=True, fmt='d')\n",
        "plt.xlabel('Predicted')\n",
        "plt.ylabel('actual')"
      ],
      "metadata": {
        "colab": {
          "base_uri": "https://localhost:8080/",
          "height": 459
        },
        "id": "9yMRG1AOIULI",
        "outputId": "569435cb-e045-46cd-b1cd-06dba1c64021"
      },
      "execution_count": null,
      "outputs": [
        {
          "output_type": "execute_result",
          "data": {
            "text/plain": [
              "Text(69.0, 0.5, 'actual')"
            ]
          },
          "metadata": {},
          "execution_count": 41
        },
        {
          "output_type": "display_data",
          "data": {
            "text/plain": [
              "<Figure size 720x504 with 2 Axes>"
            ],
            "image/png": "[encoded data removed]"
          },
          "metadata": {
            "needs_background": "light"
          }
        }
      ]
    }
  ]
}